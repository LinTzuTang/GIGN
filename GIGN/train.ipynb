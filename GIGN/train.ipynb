{
 "cells": [
  {
   "cell_type": "code",
   "execution_count": 2,
   "metadata": {
    "tags": []
   },
   "outputs": [],
   "source": [
    "# %%\n",
    "import os\n",
    "os.environ['CUDA_VISIBLE_DEVICES'] = \"0\"\n",
    "import torch\n",
    "import torch.nn as nn\n",
    "import torch.optim as optim\n",
    "import pandas as pd\n",
    "import wandb  # Import wandb\n",
    "from utils import AverageMeter\n",
    "from GIGN import GIGN\n",
    "from dataset_GIGN import GraphDataset, PLIDataLoader\n",
    "from config.config_dict import Config\n",
    "from log.train_logger import TrainLogger\n",
    "import numpy as np\n",
    "from utils import *\n",
    "from sklearn.metrics import mean_squared_error\n",
    "\n",
    "# %%\n",
    "def val(model, dataloader, device):\n",
    "    model.eval()\n",
    "\n",
    "    pred_list = []\n",
    "    label_list = []\n",
    "    for data in dataloader:\n",
    "        data = data.to(device)\n",
    "        with torch.no_grad():\n",
    "            pred = model(data)\n",
    "            label = data.y\n",
    "\n",
    "            pred_list.append(pred.detach().cpu().numpy())\n",
    "            label_list.append(label.detach().cpu().numpy())\n",
    "            \n",
    "    pred = np.concatenate(pred_list, axis=0)\n",
    "    label = np.concatenate(label_list, axis=0)\n",
    "\n",
    "    coff = np.corrcoef(pred, label)[0, 1]\n",
    "    epoch_rmse = np.sqrt(mean_squared_error(label, pred))\n",
    "\n",
    "    model.train()\n",
    "\n",
    "    return epoch_rmse, coff\n",
    "\n",
    "\n"
   ]
  },
  {
   "cell_type": "code",
   "execution_count": 4,
   "metadata": {
    "tags": []
   },
   "outputs": [
    {
     "name": "stdout",
     "output_type": "stream",
     "text": [
      "CUDA available:  True\n",
      "CUDA device count:  1\n",
      "CUDA device name:  NVIDIA A100-SXM4-80GB\n"
     ]
    }
   ],
   "source": [
    "import torch\n",
    "print(\"CUDA available: \", torch.cuda.is_available())\n",
    "print(\"CUDA device count: \", torch.cuda.device_count())\n",
    "if torch.cuda.is_available():\n",
    "    print(\"CUDA device name: \", torch.cuda.get_device_name(0))"
   ]
  },
  {
   "cell_type": "code",
   "execution_count": 5,
   "metadata": {
    "tags": []
   },
   "outputs": [
    {
     "name": "stdout",
     "output_type": "stream",
     "text": [
      "CUDA version:  11.3\n",
      "PyTorch version:  1.12.1\n"
     ]
    }
   ],
   "source": [
    "print(\"CUDA version: \", torch.version.cuda)\n",
    "print(\"PyTorch version: \", torch.__version__)"
   ]
  },
  {
   "cell_type": "code",
   "execution_count": 7,
   "metadata": {},
   "outputs": [
    {
     "ename": "ModuleNotFoundError",
     "evalue": "No module named 'torch.geometric'",
     "output_type": "error",
     "traceback": [
      "\u001b[0;31m---------------------------------------------------------------------------\u001b[0m",
      "\u001b[0;31mModuleNotFoundError\u001b[0m                       Traceback (most recent call last)",
      "\u001b[1;32m/home/tzutang.lin/blue_ufhpc/GIGN/GIGN/train.ipynb Cell 4\u001b[0m line \u001b[0;36m1\n\u001b[0;32m----> <a href='vscode-notebook-cell://ssh-remote%2Bhpg/home/tzutang.lin/blue_ufhpc/GIGN/GIGN/train.ipynb#W3sdnNjb2RlLXJlbW90ZQ%3D%3D?line=0'>1</a>\u001b[0m \u001b[39mimport\u001b[39;00m \u001b[39mtorch\u001b[39;00m\u001b[39m.\u001b[39;00m\u001b[39mgeometric\u001b[39;00m\n",
      "\u001b[0;31mModuleNotFoundError\u001b[0m: No module named 'torch.geometric'"
     ]
    }
   ],
   "source": [
    "import torch.geometric"
   ]
  },
  {
   "cell_type": "code",
   "execution_count": 4,
   "metadata": {},
   "outputs": [
    {
     "name": "stdout",
     "output_type": "stream",
     "text": [
      "/home/tzutang.lin/.local/lib/python3.12/site-packages/torch/__init__.py\n"
     ]
    }
   ],
   "source": [
    "print(torch.__file__) "
   ]
  },
  {
   "cell_type": "code",
   "execution_count": null,
   "metadata": {},
   "outputs": [],
   "source": []
  }
 ],
 "metadata": {
  "kernelspec": {
   "display_name": "Python 3 (ipykernel)",
   "language": "python",
   "name": "python3"
  },
  "language_info": {
   "codemirror_mode": {
    "name": "ipython",
    "version": 3
   },
   "file_extension": ".py",
   "mimetype": "text/x-python",
   "name": "python",
   "nbconvert_exporter": "python",
   "pygments_lexer": "ipython3",
   "version": "3.10.12"
  }
 },
 "nbformat": 4,
 "nbformat_minor": 4
}
