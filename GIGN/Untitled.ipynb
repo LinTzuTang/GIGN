{
 "cells": [
  {
   "cell_type": "code",
   "execution_count": 2,
   "id": "97f64acb",
   "metadata": {},
   "outputs": [],
   "source": [
    "# %%\n",
    "import os\n",
    "import pickle\n",
    "from rdkit import Chem\n",
    "import pandas as pd\n",
    "from tqdm import tqdm\n",
    "import pymol\n",
    "from rdkit import RDLogger\n",
    "RDLogger.DisableLog('rdApp.*')\n",
    "import glob"
   ]
  },
  {
   "cell_type": "code",
   "execution_count": 3,
   "id": "723be85c",
   "metadata": {},
   "outputs": [],
   "source": [
    "distance = 5\n",
    "input_ligand_format = 'mol2'\n",
    "data_root = './pdbbind_rna_data'\n",
    "data_dir = os.path.join(data_root, 'pdbbind_rna_set_')\n",
    "data_df = pd.read_csv(os.path.join(data_root, 'pdbbind_rna_labels_split.csv'))"
   ]
  },
  {
   "cell_type": "code",
   "execution_count": 4,
   "id": "a3de87f6",
   "metadata": {},
   "outputs": [
    {
     "data": {
      "text/plain": [
       "[]"
      ]
     },
     "execution_count": 4,
     "metadata": {},
     "output_type": "execute_result"
    }
   ],
   "source": [
    "input_folder = 'pdbbind_rna_data/pdbbind_rna_set_'\n",
    "os.listdir(input_folder)"
   ]
  },
  {
   "cell_type": "code",
   "execution_count": 14,
   "id": "3d933b4e",
   "metadata": {},
   "outputs": [
    {
     "data": {
      "text/plain": [
       "0      1arj\n",
       "1      1byj\n",
       "2      1f27\n",
       "3      1f1t\n",
       "4      1qd3\n",
       "       ... \n",
       "111    6e8s\n",
       "112    6hmo\n",
       "114    6p2h\n",
       "116    6e8u\n",
       "117    6hbt\n",
       "Name: pdbid, Length: 81, dtype: object"
      ]
     },
     "execution_count": 14,
     "metadata": {},
     "output_type": "execute_result"
    }
   ],
   "source": [
    "data_df[data_df['set'] == 'train']['pdbid']"
   ]
  },
  {
   "cell_type": "code",
   "execution_count": 15,
   "id": "b76ae90d",
   "metadata": {},
   "outputs": [],
   "source": [
    "def generate_pocket(data_dir, distance=5):\n",
    "    complex_id = os.listdir(data_dir)\n",
    "    for cid in complex_id:\n",
    "        complex_dir = os.path.join(data_dir, cid)\n",
    "        lig_pattern = os.path.join(complex_dir, f\"{cid}_*.mol2\")\n",
    "        lig_native_files = glob.glob(lig_pattern)\n",
    "        \n",
    "        if not lig_native_files:\n",
    "            print(f\"No ligand file found for {cid}. Skipping.\")\n",
    "            continue\n",
    "            \n",
    "        lig_native_path = lig_native_files[0]  # Use the first matching file\n",
    "        rna_path = os.path.join(complex_dir, f\"{cid}_rna.pdb\")\n",
    "\n",
    "        if os.path.exists(os.path.join(complex_dir, f'Pocket_{distance}A.pdb')):\n",
    "            continue\n",
    "\n",
    "        pymol.cmd.load(rna_path)\n",
    "        pymol.cmd.remove('resn HOH')\n",
    "        pymol.cmd.load(lig_native_path)\n",
    "\n",
    "        # Find out the name of the loaded ligand\n",
    "        all_objects = pymol.cmd.get_names('objects')\n",
    "        ligand_name = all_objects[-1]  # Assuming the last loaded object is the ligand\n",
    "\n",
    "        pymol.cmd.remove('hydrogens')\n",
    "        pymol.cmd.select('Pocket', f'byres {ligand_name} around {distance}')\n",
    "        pymol.cmd.save(os.path.join(complex_dir, f'Pocket_{distance}A.pdb'), 'Pocket')\n",
    "        pymol.cmd.delete('all')"
   ]
  },
  {
   "cell_type": "code",
   "execution_count": 16,
   "id": "eecd63f8",
   "metadata": {},
   "outputs": [],
   "source": [
    "generate_pocket(data_dir=data_dir, distance=distance)"
   ]
  },
  {
   "cell_type": "code",
   "execution_count": 17,
   "id": "635af502",
   "metadata": {},
   "outputs": [],
   "source": [
    "def generate_complex(data_dir, data_df, distance=5):\n",
    "    pbar = tqdm(total=len(data_df))\n",
    "    for i, row in data_df.iterrows():\n",
    "        cid, pKa = row['pdbid'], float(row['-logKd/Ki'])\n",
    "        complex_dir = os.path.join(data_dir, cid)\n",
    "        pocket_path = os.path.join(data_dir, cid, f'Pocket_{distance}A.pdb')\n",
    "        \n",
    "        lig_pattern = os.path.join(complex_dir, f\"{cid}_*_*.pdb\")\n",
    "        lig_native_files = glob.glob(lig_pattern)\n",
    "        ligand_path = lig_native_files[0]  # Use the first matching file\n",
    "\n",
    "        save_path = os.path.join(complex_dir, f\"{cid}_{distance}A.rdkit\")\n",
    "        ligand = Chem.MolFromPDBFile(ligand_path, removeHs=True)\n",
    "        if ligand == None:\n",
    "            print(f\"Unable to process ligand of {cid}\")\n",
    "            continue\n",
    "\n",
    "        pocket = Chem.MolFromPDBFile(pocket_path, removeHs=True)\n",
    "        if pocket == None:\n",
    "            print(f\"Unable to process rna of {cid}\")\n",
    "            continue\n",
    "\n",
    "        complex = (ligand, pocket)\n",
    "        with open(save_path, 'wb') as f:\n",
    "            pickle.dump(complex, f)\n",
    "\n",
    "        pbar.update(1)"
   ]
  },
  {
   "cell_type": "code",
   "execution_count": 18,
   "id": "7db5b6cc",
   "metadata": {},
   "outputs": [
    {
     "name": "stderr",
     "output_type": "stream",
     "text": [
      "100%|██████████| 118/118 [00:00<00:00, 144.21it/s]\n"
     ]
    }
   ],
   "source": [
    "generate_complex(data_dir, data_df, distance=distance)"
   ]
  },
  {
   "cell_type": "code",
   "execution_count": 19,
   "id": "da010f5d",
   "metadata": {},
   "outputs": [
    {
     "ename": "FileNotFoundError",
     "evalue": "[Errno 2] No such file or directory: 'pdbbind_rna_data/pdbbind_rna_set'",
     "output_type": "error",
     "traceback": [
      "\u001b[0;31m---------------------------------------------------------------------------\u001b[0m",
      "\u001b[0;31mFileNotFoundError\u001b[0m                         Traceback (most recent call last)",
      "\u001b[1;32m/home/tzutang.lin/blue_ufhpc/GIGN/GIGN/Untitled.ipynb Cell 9\u001b[0m line \u001b[0;36m3\n\u001b[1;32m     <a href='vscode-notebook-cell://ssh-remote%2Bhpg/home/tzutang.lin/blue_ufhpc/GIGN/GIGN/Untitled.ipynb#X11sdnNjb2RlLXJlbW90ZQ%3D%3D?line=31'>32</a>\u001b[0m train_folder \u001b[39m=\u001b[39m \u001b[39m'\u001b[39m\u001b[39mpdbbind_rna_data/train_set\u001b[39m\u001b[39m'\u001b[39m\n\u001b[1;32m     <a href='vscode-notebook-cell://ssh-remote%2Bhpg/home/tzutang.lin/blue_ufhpc/GIGN/GIGN/Untitled.ipynb#X11sdnNjb2RlLXJlbW90ZQ%3D%3D?line=32'>33</a>\u001b[0m test_folder \u001b[39m=\u001b[39m \u001b[39m'\u001b[39m\u001b[39mpdbbind_rna_data/test_set\u001b[39m\u001b[39m'\u001b[39m\n\u001b[0;32m---> <a href='vscode-notebook-cell://ssh-remote%2Bhpg/home/tzutang.lin/blue_ufhpc/GIGN/GIGN/Untitled.ipynb#X11sdnNjb2RlLXJlbW90ZQ%3D%3D?line=33'>34</a>\u001b[0m split_folder(input_folder, train_folder, test_folder)\n",
      "\u001b[1;32m/home/tzutang.lin/blue_ufhpc/GIGN/GIGN/Untitled.ipynb Cell 9\u001b[0m line \u001b[0;36m1\n\u001b[1;32m      <a href='vscode-notebook-cell://ssh-remote%2Bhpg/home/tzutang.lin/blue_ufhpc/GIGN/GIGN/Untitled.ipynb#X11sdnNjb2RlLXJlbW90ZQ%3D%3D?line=7'>8</a>\u001b[0m os\u001b[39m.\u001b[39mmakedirs(test_folder, exist_ok\u001b[39m=\u001b[39m\u001b[39mTrue\u001b[39;00m)\n\u001b[1;32m     <a href='vscode-notebook-cell://ssh-remote%2Bhpg/home/tzutang.lin/blue_ufhpc/GIGN/GIGN/Untitled.ipynb#X11sdnNjb2RlLXJlbW90ZQ%3D%3D?line=9'>10</a>\u001b[0m \u001b[39m# Get all files in the input folder\u001b[39;00m\n\u001b[0;32m---> <a href='vscode-notebook-cell://ssh-remote%2Bhpg/home/tzutang.lin/blue_ufhpc/GIGN/GIGN/Untitled.ipynb#X11sdnNjb2RlLXJlbW90ZQ%3D%3D?line=10'>11</a>\u001b[0m files \u001b[39m=\u001b[39m os\u001b[39m.\u001b[39;49mlistdir(input_folder)\n\u001b[1;32m     <a href='vscode-notebook-cell://ssh-remote%2Bhpg/home/tzutang.lin/blue_ufhpc/GIGN/GIGN/Untitled.ipynb#X11sdnNjb2RlLXJlbW90ZQ%3D%3D?line=12'>13</a>\u001b[0m \u001b[39m# Shuffle the files randomly\u001b[39;00m\n\u001b[1;32m     <a href='vscode-notebook-cell://ssh-remote%2Bhpg/home/tzutang.lin/blue_ufhpc/GIGN/GIGN/Untitled.ipynb#X11sdnNjb2RlLXJlbW90ZQ%3D%3D?line=13'>14</a>\u001b[0m random\u001b[39m.\u001b[39mshuffle(files)\n",
      "\u001b[0;31mFileNotFoundError\u001b[0m: [Errno 2] No such file or directory: 'pdbbind_rna_data/pdbbind_rna_set'"
     ]
    }
   ],
   "source": [
    "import os\n",
    "import shutil\n",
    "import random\n",
    "\n",
    "def split_folder(input_folder, train_folder, test_folder, split_ratio=0.9):\n",
    "    # Create output directories if they don't exist\n",
    "    os.makedirs(train_folder, exist_ok=True)\n",
    "    os.makedirs(test_folder, exist_ok=True)\n",
    "\n",
    "    # Get all files in the input folder\n",
    "    files = os.listdir(input_folder)\n",
    "    \n",
    "    # Shuffle the files randomly\n",
    "    random.shuffle(files)\n",
    "    \n",
    "    # Calculate split index\n",
    "    split_index = int(len(files) * split_ratio)\n",
    "    \n",
    "    # Split files into train and test sets\n",
    "    train_files = files[:split_index]\n",
    "    test_files = files[split_index:]\n",
    "\n",
    "    # Move files to respective folders\n",
    "    for file in train_files:\n",
    "        shutil.move(os.path.join(input_folder, file), os.path.join(train_folder, file))\n",
    "    \n",
    "    for file in test_files:\n",
    "        shutil.move(os.path.join(input_folder, file), os.path.join(test_folder, file))\n",
    "\n",
    "# Example usage\n",
    "input_folder = 'pdbbind_rna_data/pdbbind_rna_set'\n",
    "train_folder = 'pdbbind_rna_data/train_set'\n",
    "test_folder = 'pdbbind_rna_data/test_set'\n",
    "split_folder(input_folder, train_folder, test_folder)\n"
   ]
  },
  {
   "cell_type": "code",
   "execution_count": 20,
   "id": "1c3e57e5",
   "metadata": {},
   "outputs": [],
   "source": [
    "import os\n",
    "import shutil\n",
    "import random\n",
    "\n",
    "def split_folder(input_folder, train_folder, val_folder, test_folder):\n",
    "    # Create output directories if they don't exist\n",
    "    os.makedirs(train_folder, exist_ok=True)\n",
    "    os.makedirs(val_folder, exist_ok=True)\n",
    "    os.makedirs(test_folder, exist_ok=True)\n",
    "\n",
    "    # Get all files in the input folder\n",
    "    files = os.listdir(input_folder)\n",
    "    \n",
    "    train_files = data_df[data_df['set'] == 'train']['pdbid']\n",
    "    val_files = data_df[data_df['set'] == 'valid']['pdbid']\n",
    "    test_files = data_df[data_df['set'] == 'test']['pdbid']\n",
    "\n",
    "    # Move files to respective folders\n",
    "    for file in train_files:\n",
    "        shutil.move(os.path.join(input_folder, file), os.path.join(train_folder, file))\n",
    "    \n",
    "    for file in val_files:\n",
    "        shutil.move(os.path.join(input_folder, file), os.path.join(val_folder, file)) \n",
    "    \n",
    "    for file in test_files:\n",
    "        shutil.move(os.path.join(input_folder, file), os.path.join(test_folder, file))\n",
    "\n",
    "# Example usage\n",
    "input_folder = 'pdbbind_rna_data/pdbbind_rna_set_'\n",
    "train_folder = 'pdbbind_rna_data/train_set'\n",
    "val_folder = 'pdbbind_rna_data/val_set'\n",
    "test_folder = 'pdbbind_rna_data/test_set'\n",
    "split_folder(input_folder, train_folder, val_folder, test_folder)\n"
   ]
  },
  {
   "cell_type": "code",
   "execution_count": 24,
   "id": "a52143c8",
   "metadata": {},
   "outputs": [],
   "source": [
    " import pandas as pd\n",
    " data_root = './pdbbind_rna_data'\n",
    " df = pd.read_csv(os.path.join(data_root, \"pdbbind_rna_labels_split.csv\"))"
   ]
  },
  {
   "cell_type": "code",
   "execution_count": 25,
   "id": "986bfb68",
   "metadata": {},
   "outputs": [],
   "source": [
    "df[df['pdbid'].isin(os.listdir(train_folder))].to_csv(os.path.join(data_root, 'train_labels.csv'), index=False)\n",
    "df[df['pdbid'].isin(os.listdir(val_folder))].to_csv(os.path.join(data_root, 'val_labels.csv'), index=False)\n",
    "df[df['pdbid'].isin(os.listdir(test_folder))].to_csv(os.path.join(data_root, 'test_labels.csv'), index=False)"
   ]
  },
  {
   "cell_type": "code",
   "execution_count": null,
   "id": "7723bbf8",
   "metadata": {},
   "outputs": [],
   "source": []
  }
 ],
 "metadata": {
  "kernelspec": {
   "display_name": "Python 3",
   "language": "python",
   "name": "python3"
  },
  "language_info": {
   "codemirror_mode": {
    "name": "ipython",
    "version": 3
   },
   "file_extension": ".py",
   "mimetype": "text/x-python",
   "name": "python",
   "nbconvert_exporter": "python",
   "pygments_lexer": "ipython3",
   "version": "3.9.20"
  }
 },
 "nbformat": 4,
 "nbformat_minor": 5
}
